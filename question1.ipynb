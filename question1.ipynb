{
 "cells": [
  {
   "cell_type": "code",
   "execution_count": 153,
   "outputs": [
    {
     "data": {
      "text/plain": "   listing_id       date available   price\n0      241032 2016-01-04         t  $85.00\n1      241032 2016-01-05         t  $85.00\n2      241032 2016-01-06         f     NaN\n3      241032 2016-01-07         f     NaN\n4      241032 2016-01-08         f     NaN",
      "text/html": "<div>\n<style scoped>\n    .dataframe tbody tr th:only-of-type {\n        vertical-align: middle;\n    }\n\n    .dataframe tbody tr th {\n        vertical-align: top;\n    }\n\n    .dataframe thead th {\n        text-align: right;\n    }\n</style>\n<table border=\"1\" class=\"dataframe\">\n  <thead>\n    <tr style=\"text-align: right;\">\n      <th></th>\n      <th>listing_id</th>\n      <th>date</th>\n      <th>available</th>\n      <th>price</th>\n    </tr>\n  </thead>\n  <tbody>\n    <tr>\n      <th>0</th>\n      <td>241032</td>\n      <td>2016-01-04</td>\n      <td>t</td>\n      <td>$85.00</td>\n    </tr>\n    <tr>\n      <th>1</th>\n      <td>241032</td>\n      <td>2016-01-05</td>\n      <td>t</td>\n      <td>$85.00</td>\n    </tr>\n    <tr>\n      <th>2</th>\n      <td>241032</td>\n      <td>2016-01-06</td>\n      <td>f</td>\n      <td>NaN</td>\n    </tr>\n    <tr>\n      <th>3</th>\n      <td>241032</td>\n      <td>2016-01-07</td>\n      <td>f</td>\n      <td>NaN</td>\n    </tr>\n    <tr>\n      <th>4</th>\n      <td>241032</td>\n      <td>2016-01-08</td>\n      <td>f</td>\n      <td>NaN</td>\n    </tr>\n  </tbody>\n</table>\n</div>"
     },
     "execution_count": 153,
     "metadata": {},
     "output_type": "execute_result"
    }
   ],
   "source": [
    "import pandas\n",
    "import matplotlib.pyplot as pyplot\n",
    "\n",
    "# Read in the data and display the first 5 columns\n",
    "dataframe = pandas.read_csv('./calendar.csv')\n",
    "\n",
    "# Set the date column to be a pandas datetime column\n",
    "dataframe['date'] = pandas.to_datetime(dataframe['date'])\n",
    "dataframe.head()"
   ],
   "metadata": {
    "collapsed": false,
    "pycharm": {
     "name": "#%%\n"
    }
   }
  },
  {
   "cell_type": "markdown",
   "source": [
    "The calendar data set includes the listing ID, calendar date, and whether the listing is available. Counting the number of unavailable dates in a give month should give an idea of the busiest months of year to visit Seattle."
   ],
   "metadata": {
    "collapsed": false,
    "pycharm": {
     "name": "#%% md\n"
    }
   }
  },
  {
   "cell_type": "code",
   "execution_count": 154,
   "outputs": [
    {
     "data": {
      "text/plain": "(0, 0)"
     },
     "execution_count": 154,
     "metadata": {},
     "output_type": "execute_result"
    }
   ],
   "source": [
    "# Check if there are any null values in the available or date columns\n",
    "\n",
    "nullAvailability = dataframe['available'].isnull().sum()\n",
    "nullDates = dataframe['date'].isnull().sum()\n",
    "\n",
    "nullAvailability, nullDates"
   ],
   "metadata": {
    "collapsed": false,
    "pycharm": {
     "name": "#%%\n"
    }
   }
  },
  {
   "cell_type": "markdown",
   "source": [
    "There are no null dates, or availability values which makes data cleaning simple. Display a bar chart with availability by date"
   ],
   "metadata": {
    "collapsed": false,
    "pycharm": {
     "name": "#%% md\n"
    }
   }
  },
  {
   "cell_type": "markdown",
   "source": [],
   "metadata": {
    "collapsed": false
   }
  },
  {
   "cell_type": "code",
   "execution_count": 165,
   "outputs": [
    {
     "data": {
      "text/plain": "<Figure size 432x288 with 1 Axes>",
      "image/png": "[encoded data removed]"
     },
     "metadata": {
      "needs_background": "light"
     },
     "output_type": "display_data"
    }
   ],
   "source": [
    "# Group by date, and availability\n",
    "availabilityByDate = dataframe.groupby(['date', 'available'], as_index=False).size()\n",
    "\n",
    "# Locate only the listings that not available on a given date\n",
    "availabilityByDate = availabilityByDate.loc[availabilityByDate['available'] == 'f']\n",
    "\n",
    "# Only concerned with 2016 data\n",
    "availabilityByDate = availabilityByDate.loc[availabilityByDate['date'].dt.year == 2016]\n",
    "\n",
    "# Group the listings by Month\n",
    "availabilityByDate = availabilityByDate.groupby(pandas.Grouper(key='date', axis=0, freq='M'), as_index=False).size()\n",
    "\n",
    "# Add the month name\n",
    "availabilityByDate['month'] = availabilityByDate['date'].dt.strftime('%B')\n",
    "\n",
    "# Sort by the date\n",
    "availabilityByDate = availabilityByDate.sort_values(by=['date'])\n",
    "\n",
    "# Plot a bar graph detailing availability by month\n",
    "graph = pyplot.figure().add_axes([0, 0, 1, 1])\n",
    "pyplot.setp(graph.get_xticklabels(), fontsize=16, rotation='45')\n",
    "pyplot.title(\"Availability By Month\")\n",
    "\n",
    "graph.bar(availabilityByDate['month'], availabilityByDate['size'])\n",
    "\n",
    "pyplot.show()"
   ],
   "metadata": {
    "collapsed": false,
    "pycharm": {
     "name": "#%%\n"
    }
   }
  },
  {
   "cell_type": "markdown",
   "source": [
    "The graph shows that the months with the fewest vacancies are January, and February. These are the busiest months of the year to vist Seattle"
   ],
   "metadata": {
    "collapsed": false,
    "pycharm": {
     "name": "#%% md\n"
    }
   }
  }
 ],
 "metadata": {
  "kernelspec": {
   "display_name": "Python 3",
   "language": "python",
   "name": "python3"
  },
  "language_info": {
   "codemirror_mode": {
    "name": "ipython",
    "version": 2
   },
   "file_extension": ".py",
   "mimetype": "text/x-python",
   "name": "python",
   "nbconvert_exporter": "python",
   "pygments_lexer": "ipython2",
   "version": "2.7.6"
  }
 },
 "nbformat": 4,
 "nbformat_minor": 0
}