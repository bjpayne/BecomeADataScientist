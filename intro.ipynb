{
 "cells": [
  {
   "cell_type": "markdown",
   "metadata": {
    "collapsed": true,
    "pycharm": {
     "name": "#%% md\n"
    }
   },
   "source": [
    "# Business Understanding\n",
    "\n",
    "Reviewing the Airbnb listings data for 2016 could help answer the following questions:\n",
    "\n",
    "[1. When is the busiest time of year to visit seattle](question2.ipynb)\n",
    "\n",
    "[2. What is the difference in pricing for available and unavailable listings through the year](question2.ipynb)\n",
    "\n",
    "[3. Can an ML model be built to predict the price of a listing based on other factors](question2.ipynb)\n",
    "\n",
    "# Questions Analysis\n",
    "\n",
    "1. Answering this question can help the business tailor it's marketing, and business strategies throughout the year.\n",
    "2. Understanding the price delta at different times of the year can help hosts know how to price their listings based on previous trends\n",
    "3. Suggesting a price based on inelastic variables such as number of rooms, beds, bathrooms can help hosts better price their listings\n"
   ]
  }
 ],
 "metadata": {
  "kernelspec": {
   "display_name": "Python 3",
   "language": "python",
   "name": "python3"
  },
  "language_info": {
   "codemirror_mode": {
    "name": "ipython",
    "version": 2
   },
   "file_extension": ".py",
   "mimetype": "text/x-python",
   "name": "python",
   "nbconvert_exporter": "python",
   "pygments_lexer": "ipython2",
   "version": "2.7.6"
  }
 },
 "nbformat": 4,
 "nbformat_minor": 0
}