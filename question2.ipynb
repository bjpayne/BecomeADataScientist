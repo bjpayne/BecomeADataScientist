{
 "cells": [
  {
   "cell_type": "code",
   "execution_count": 43,
   "outputs": [
    {
     "data": {
      "text/plain": "   listing_id       date available  price\n0      241032 2016-01-04         t   85.0\n1      241032 2016-01-05         t   85.0\n2      241032 2016-01-06         f    NaN\n3      241032 2016-01-07         f    NaN\n4      241032 2016-01-08         f    NaN",
      "text/html": "<div>\n<style scoped>\n    .dataframe tbody tr th:only-of-type {\n        vertical-align: middle;\n    }\n\n    .dataframe tbody tr th {\n        vertical-align: top;\n    }\n\n    .dataframe thead th {\n        text-align: right;\n    }\n</style>\n<table border=\"1\" class=\"dataframe\">\n  <thead>\n    <tr style=\"text-align: right;\">\n      <th></th>\n      <th>listing_id</th>\n      <th>date</th>\n      <th>available</th>\n      <th>price</th>\n    </tr>\n  </thead>\n  <tbody>\n    <tr>\n      <th>0</th>\n      <td>241032</td>\n      <td>2016-01-04</td>\n      <td>t</td>\n      <td>85.0</td>\n    </tr>\n    <tr>\n      <th>1</th>\n      <td>241032</td>\n      <td>2016-01-05</td>\n      <td>t</td>\n      <td>85.0</td>\n    </tr>\n    <tr>\n      <th>2</th>\n      <td>241032</td>\n      <td>2016-01-06</td>\n      <td>f</td>\n      <td>NaN</td>\n    </tr>\n    <tr>\n      <th>3</th>\n      <td>241032</td>\n      <td>2016-01-07</td>\n      <td>f</td>\n      <td>NaN</td>\n    </tr>\n    <tr>\n      <th>4</th>\n      <td>241032</td>\n      <td>2016-01-08</td>\n      <td>f</td>\n      <td>NaN</td>\n    </tr>\n  </tbody>\n</table>\n</div>"
     },
     "execution_count": 43,
     "metadata": {},
     "output_type": "execute_result"
    }
   ],
   "source": [
    "import pandas\n",
    "import matplotlib.pyplot as pyplot\n",
    "import numpy\n",
    "\n",
    "# Read in the data and display the first 5 columns\n",
    "dataframe = pandas.read_csv('./calendar.csv')\n",
    "\n",
    "# Set the date column to be a pandas datetime column\n",
    "dataframe['date'] = pandas.to_datetime(dataframe['date'])\n",
    "\n",
    "# Set the price column to be a float\n",
    "dataframe['price'] = dataframe['price'].str.replace('[\\$,]', '', regex=True).astype(float)\n",
    "\n",
    "dataframe.head()"
   ],
   "metadata": {
    "collapsed": false,
    "pycharm": {
     "name": "#%%\n"
    }
   }
  },
  {
   "cell_type": "markdown",
   "source": [
    "To check the price delta between various times of year and between available and unavailable listings...clear up any NaN values for price"
   ],
   "metadata": {
    "collapsed": false,
    "pycharm": {
     "name": "#%% md\n"
    }
   }
  },
  {
   "cell_type": "code",
   "execution_count": 2,
   "outputs": [
    {
     "data": {
      "text/plain": "(459028, 934542)"
     },
     "execution_count": 2,
     "metadata": {},
     "output_type": "execute_result"
    }
   ],
   "source": [
    "# Check if there are any null values in the available or date columns\n",
    "nullPrices = dataframe['price'].isnull().sum()\n",
    "\n",
    "notNullPrices = dataframe['price'].value_counts().sum()\n",
    "\n",
    "nullPrices, notNullPrices"
   ],
   "metadata": {
    "collapsed": false,
    "pycharm": {
     "name": "#%%\n"
    }
   }
  },
  {
   "cell_type": "markdown",
   "source": [
    "There are 459,028 rows without a price, and 934,542 rows with a price. Check to see if all the rows without a price are rows that are not available"
   ],
   "metadata": {
    "collapsed": false,
    "pycharm": {
     "name": "#%% md\n"
    }
   }
  },
  {
   "cell_type": "code",
   "execution_count": 3,
   "outputs": [
    {
     "data": {
      "text/plain": "459028"
     },
     "execution_count": 3,
     "metadata": {},
     "output_type": "execute_result"
    }
   ],
   "source": [
    "nullPrices = dataframe.loc[dataframe['available'] == 'f']['price'].isnull().sum()\n",
    "\n",
    "nullPrices"
   ],
   "metadata": {
    "collapsed": false,
    "pycharm": {
     "name": "#%%\n"
    }
   }
  },
  {
   "cell_type": "markdown",
   "source": [
    "The rows with unavailable listings do not list a price. What are some options for imputing the missing values? Get a list of available listings and prices"
   ],
   "metadata": {
    "collapsed": false
   }
  },
  {
   "cell_type": "code",
   "execution_count": 8,
   "outputs": [
    {
     "data": {
      "text/plain": "      listing_id   price\n0           3335  120.00\n1           4291   82.00\n2           5682   52.50\n3           6606   95.00\n4           7369   85.00\n...          ...     ...\n3718    10331249   45.00\n3719    10332096   40.00\n3720    10334184  120.00\n3721    10339145  262.33\n3722    10340165   43.00\n\n[3723 rows x 2 columns]",
      "text/html": "<div>\n<style scoped>\n    .dataframe tbody tr th:only-of-type {\n        vertical-align: middle;\n    }\n\n    .dataframe tbody tr th {\n        vertical-align: top;\n    }\n\n    .dataframe thead th {\n        text-align: right;\n    }\n</style>\n<table border=\"1\" class=\"dataframe\">\n  <thead>\n    <tr style=\"text-align: right;\">\n      <th></th>\n      <th>listing_id</th>\n      <th>price</th>\n    </tr>\n  </thead>\n  <tbody>\n    <tr>\n      <th>0</th>\n      <td>3335</td>\n      <td>120.00</td>\n    </tr>\n    <tr>\n      <th>1</th>\n      <td>4291</td>\n      <td>82.00</td>\n    </tr>\n    <tr>\n      <th>2</th>\n      <td>5682</td>\n      <td>52.50</td>\n    </tr>\n    <tr>\n      <th>3</th>\n      <td>6606</td>\n      <td>95.00</td>\n    </tr>\n    <tr>\n      <th>4</th>\n      <td>7369</td>\n      <td>85.00</td>\n    </tr>\n    <tr>\n      <th>...</th>\n      <td>...</td>\n      <td>...</td>\n    </tr>\n    <tr>\n      <th>3718</th>\n      <td>10331249</td>\n      <td>45.00</td>\n    </tr>\n    <tr>\n      <th>3719</th>\n      <td>10332096</td>\n      <td>40.00</td>\n    </tr>\n    <tr>\n      <th>3720</th>\n      <td>10334184</td>\n      <td>120.00</td>\n    </tr>\n    <tr>\n      <th>3721</th>\n      <td>10339145</td>\n      <td>262.33</td>\n    </tr>\n    <tr>\n      <th>3722</th>\n      <td>10340165</td>\n      <td>43.00</td>\n    </tr>\n  </tbody>\n</table>\n<p>3723 rows × 2 columns</p>\n</div>"
     },
     "execution_count": 8,
     "metadata": {},
     "output_type": "execute_result"
    }
   ],
   "source": [
    "availableListings = dataframe.loc[dataframe['available'] == 't'].copy()\n",
    "\n",
    "availableListings = availableListings[['listing_id', 'price']].groupby(['listing_id', 'price'], as_index=False)\n",
    "\n",
    "availableListings = availableListings.mean().groupby('listing_id')['price'].mean().round(2)\n",
    "\n",
    "availableListings = pandas.DataFrame(availableListings.reset_index())\n",
    "\n",
    "availableListings"
   ],
   "metadata": {
    "collapsed": false,
    "pycharm": {
     "name": "#%%\n"
    }
   }
  },
  {
   "cell_type": "markdown",
   "source": [
    "An option would be to take these means values for available listings and fill all nan fields with their respective mean price based on the listing"
   ],
   "metadata": {
    "collapsed": false
   }
  },
  {
   "cell_type": "code",
   "execution_count": 9,
   "outputs": [
    {
     "data": {
      "text/plain": "     listing_id       date available   price\n0        241032 2016-01-04         t    85.0\n1        241032 2016-01-05         t    85.0\n2        241032 2016-01-06         f    85.0\n3        241032 2016-01-07         f    85.0\n4        241032 2016-01-08         f    85.0\n..          ...        ...       ...     ...\n995     3308979 2016-09-25         t  1450.0\n996     3308979 2016-09-26         t  1450.0\n997     3308979 2016-09-27         t  1450.0\n998     3308979 2016-09-28         t  1450.0\n999     3308979 2016-09-29         t  1450.0\n\n[1000 rows x 4 columns]",
      "text/html": "<div>\n<style scoped>\n    .dataframe tbody tr th:only-of-type {\n        vertical-align: middle;\n    }\n\n    .dataframe tbody tr th {\n        vertical-align: top;\n    }\n\n    .dataframe thead th {\n        text-align: right;\n    }\n</style>\n<table border=\"1\" class=\"dataframe\">\n  <thead>\n    <tr style=\"text-align: right;\">\n      <th></th>\n      <th>listing_id</th>\n      <th>date</th>\n      <th>available</th>\n      <th>price</th>\n    </tr>\n  </thead>\n  <tbody>\n    <tr>\n      <th>0</th>\n      <td>241032</td>\n      <td>2016-01-04</td>\n      <td>t</td>\n      <td>85.0</td>\n    </tr>\n    <tr>\n      <th>1</th>\n      <td>241032</td>\n      <td>2016-01-05</td>\n      <td>t</td>\n      <td>85.0</td>\n    </tr>\n    <tr>\n      <th>2</th>\n      <td>241032</td>\n      <td>2016-01-06</td>\n      <td>f</td>\n      <td>85.0</td>\n    </tr>\n    <tr>\n      <th>3</th>\n      <td>241032</td>\n      <td>2016-01-07</td>\n      <td>f</td>\n      <td>85.0</td>\n    </tr>\n    <tr>\n      <th>4</th>\n      <td>241032</td>\n      <td>2016-01-08</td>\n      <td>f</td>\n      <td>85.0</td>\n    </tr>\n    <tr>\n      <th>...</th>\n      <td>...</td>\n      <td>...</td>\n      <td>...</td>\n      <td>...</td>\n    </tr>\n    <tr>\n      <th>995</th>\n      <td>3308979</td>\n      <td>2016-09-25</td>\n      <td>t</td>\n      <td>1450.0</td>\n    </tr>\n    <tr>\n      <th>996</th>\n      <td>3308979</td>\n      <td>2016-09-26</td>\n      <td>t</td>\n      <td>1450.0</td>\n    </tr>\n    <tr>\n      <th>997</th>\n      <td>3308979</td>\n      <td>2016-09-27</td>\n      <td>t</td>\n      <td>1450.0</td>\n    </tr>\n    <tr>\n      <th>998</th>\n      <td>3308979</td>\n      <td>2016-09-28</td>\n      <td>t</td>\n      <td>1450.0</td>\n    </tr>\n    <tr>\n      <th>999</th>\n      <td>3308979</td>\n      <td>2016-09-29</td>\n      <td>t</td>\n      <td>1450.0</td>\n    </tr>\n  </tbody>\n</table>\n<p>1000 rows × 4 columns</p>\n</div>"
     },
     "execution_count": 9,
     "metadata": {},
     "output_type": "execute_result"
    }
   ],
   "source": [
    "def findAvailableListingMean(row):\n",
    "    if numpy.isnan(row['price']):\n",
    "        try:\n",
    "            mean_price = availableListings.loc[availableListings['listing_id'] == row['listing_id']]['price'].item()\n",
    "\n",
    "            return mean_price\n",
    "        except:\n",
    "            return row['price']\n",
    "    else:\n",
    "        return row['price']\n",
    "\n",
    "dataframe['price'] = dataframe.apply(\n",
    "    lambda row: findAvailableListingMean(row),\n",
    "    axis=1\n",
    ")"
   ],
   "metadata": {
    "collapsed": false,
    "pycharm": {
     "name": "#%%\n"
    }
   }
  },
  {
   "cell_type": "markdown",
   "source": [
    "Putting it all together, graph a bar chart with one set being the pricing per month for available listings, and the other unavailable listings"
   ],
   "metadata": {
    "collapsed": false
   }
  },
  {
   "cell_type": "code",
   "execution_count": 42,
   "outputs": [
    {
     "data": {
      "text/plain": "<Figure size 720x432 with 1 Axes>",
      "image/png": "[encoded data removed]"
     },
     "metadata": {
      "needs_background": "light"
     },
     "output_type": "display_data"
    }
   ],
   "source": [
    "# Slice dataframe into available and unavailable listings\n",
    "def slice_data_frame_by_availability(availability, _dataframe):\n",
    "    # Only concerned with 2016 data\n",
    "    _dataframe = _dataframe.loc[_dataframe['date'].dt.year == 2016].copy()\n",
    "\n",
    "    # Filter on the availability of the listing\n",
    "    _dataframe = _dataframe.loc[_dataframe['available'] == availability].copy()\n",
    "\n",
    "    return _dataframe\n",
    "\n",
    "availableListings = slice_data_frame_by_availability('t', dataframe)\n",
    "unavailableListings = slice_data_frame_by_availability('f', dataframe)\n",
    "\n",
    "# # Group by date, and price\n",
    "availablePriceByDate = availableListings.groupby(['date', 'price'], as_index=False).size()\n",
    "unavailablePriceByDate = unavailableListings.groupby(['date', 'price'], as_index=False).size()\n",
    "\n",
    "# Add the columns that will be grouped and computed to get the mean price per month\n",
    "availablePriceByDate['month'] = availablePriceByDate['date'].dt.month\n",
    "unavailablePriceByDate['month'] = unavailablePriceByDate['date'].dt.month\n",
    "\n",
    "# Set up the plotData\n",
    "availableListingsPlotData = pandas.DataFrame({'month': availablePriceByDate['month'], 'price': availablePriceByDate['price']}).groupby('month', as_index=False).mean().round(2)\n",
    "unavailableListingsPlotData = pandas.DataFrame({'month': unavailablePriceByDate['month'], 'price': unavailablePriceByDate['price']}).groupby('month', as_index=False).mean().round(2)\n",
    "\n",
    "# Set the month column to the month name for the Bar chart\n",
    "availableListingsPlotData['month'] = pandas.to_datetime(availableListingsPlotData['month'], format='%m').dt.month_name()\n",
    "unavailableListingsPlotData['month'] = pandas.to_datetime(unavailableListingsPlotData['month'], format='%m').dt.month_name()\n",
    "\n",
    "# Plot a bar graph detailing average price per month\n",
    "labels = ['January', 'February', 'March', 'April', 'May', 'June', 'July', 'August', 'September', 'October', 'November', 'December']\n",
    "\n",
    "labelLocations = numpy.arange(len(labels))\n",
    "barWidth = 0.35\n",
    "\n",
    "figure, graph = pyplot.subplots(figsize=(10, 6))\n",
    "availableBars = graph.bar(labelLocations - barWidth / 2, availableListingsPlotData['price'], barWidth, label='Available listings')\n",
    "unavailableBars = graph.bar(labelLocations + barWidth / 2, unavailableListingsPlotData['price'], barWidth, label='Unavailable listings')\n",
    "\n",
    "# Style the bar graph and add labels\n",
    "graph.set_ylabel('Average price')\n",
    "graph.set_title('Average price of available vs. unavailable listings')\n",
    "graph.set_xticks(labelLocations, labels)\n",
    "graph.legend()\n",
    "graph.bar_label(availableBars, padding=3)\n",
    "graph.bar_label(unavailableBars, padding=3)\n",
    "\n",
    "pyplot.setp(graph.get_xticklabels(), fontsize=16, rotation='45')\n",
    "pyplot.show()"
   ],
   "metadata": {
    "collapsed": false,
    "pycharm": {
     "name": "#%%\n"
    }
   }
  },
  {
   "cell_type": "markdown",
   "source": [
    "By imputing the average price for an available listing onto the NaN values for unavailable listings it's clear there's at least some correlation between price and availability. However, the imputation is limited by a number of factors. For example, a price might be higher due to higher demand which would be missing from the mean."
   ],
   "metadata": {
    "collapsed": false,
    "pycharm": {
     "name": "#%% md\n"
    }
   }
  }
 ],
 "metadata": {
  "kernelspec": {
   "display_name": "Python 3",
   "language": "python",
   "name": "python3"
  },
  "language_info": {
   "codemirror_mode": {
    "name": "ipython",
    "version": 2
   },
   "file_extension": ".py",
   "mimetype": "text/x-python",
   "name": "python",
   "nbconvert_exporter": "python",
   "pygments_lexer": "ipython2",
   "version": "2.7.6"
  }
 },
 "nbformat": 4,
 "nbformat_minor": 0
}