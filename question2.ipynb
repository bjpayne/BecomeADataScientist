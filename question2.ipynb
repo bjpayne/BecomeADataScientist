{
 "cells": [
  {
   "cell_type": "code",
   "execution_count": 1,
   "outputs": [
    {
     "data": {
      "text/plain": "         listing_id       date available   price\n28           241032 2016-02-01         t  $85.00\n29           241032 2016-02-02         t  $85.00\n30           241032 2016-02-03         t  $85.00\n31           241032 2016-02-04         t  $85.00\n32           241032 2016-02-05         t  $85.00\n...             ...        ...       ...     ...\n1392892     9604740 2016-02-25         t  $99.00\n1392893     9604740 2016-02-26         t  $99.00\n1392894     9604740 2016-02-27         t  $99.00\n1392895     9604740 2016-02-28         t  $99.00\n1392896     9604740 2016-02-29         t  $99.00\n\n[73321 rows x 4 columns]",
      "text/html": "<div>\n<style scoped>\n    .dataframe tbody tr th:only-of-type {\n        vertical-align: middle;\n    }\n\n    .dataframe tbody tr th {\n        vertical-align: top;\n    }\n\n    .dataframe thead th {\n        text-align: right;\n    }\n</style>\n<table border=\"1\" class=\"dataframe\">\n  <thead>\n    <tr style=\"text-align: right;\">\n      <th></th>\n      <th>listing_id</th>\n      <th>date</th>\n      <th>available</th>\n      <th>price</th>\n    </tr>\n  </thead>\n  <tbody>\n    <tr>\n      <th>28</th>\n      <td>241032</td>\n      <td>2016-02-01</td>\n      <td>t</td>\n      <td>$85.00</td>\n    </tr>\n    <tr>\n      <th>29</th>\n      <td>241032</td>\n      <td>2016-02-02</td>\n      <td>t</td>\n      <td>$85.00</td>\n    </tr>\n    <tr>\n      <th>30</th>\n      <td>241032</td>\n      <td>2016-02-03</td>\n      <td>t</td>\n      <td>$85.00</td>\n    </tr>\n    <tr>\n      <th>31</th>\n      <td>241032</td>\n      <td>2016-02-04</td>\n      <td>t</td>\n      <td>$85.00</td>\n    </tr>\n    <tr>\n      <th>32</th>\n      <td>241032</td>\n      <td>2016-02-05</td>\n      <td>t</td>\n      <td>$85.00</td>\n    </tr>\n    <tr>\n      <th>...</th>\n      <td>...</td>\n      <td>...</td>\n      <td>...</td>\n      <td>...</td>\n    </tr>\n    <tr>\n      <th>1392892</th>\n      <td>9604740</td>\n      <td>2016-02-25</td>\n      <td>t</td>\n      <td>$99.00</td>\n    </tr>\n    <tr>\n      <th>1392893</th>\n      <td>9604740</td>\n      <td>2016-02-26</td>\n      <td>t</td>\n      <td>$99.00</td>\n    </tr>\n    <tr>\n      <th>1392894</th>\n      <td>9604740</td>\n      <td>2016-02-27</td>\n      <td>t</td>\n      <td>$99.00</td>\n    </tr>\n    <tr>\n      <th>1392895</th>\n      <td>9604740</td>\n      <td>2016-02-28</td>\n      <td>t</td>\n      <td>$99.00</td>\n    </tr>\n    <tr>\n      <th>1392896</th>\n      <td>9604740</td>\n      <td>2016-02-29</td>\n      <td>t</td>\n      <td>$99.00</td>\n    </tr>\n  </tbody>\n</table>\n<p>73321 rows × 4 columns</p>\n</div>"
     },
     "execution_count": 1,
     "metadata": {},
     "output_type": "execute_result"
    }
   ],
   "source": [
    "import pandas\n",
    "import matplotlib.pyplot as pyplot\n",
    "\n",
    "# Read in the data and display the first 5 columns\n",
    "dataframe = pandas.read_csv('./calendar.csv')\n",
    "\n",
    "# Set the date column to be a pandas datetime column\n",
    "dataframe['date'] = pandas.to_datetime(dataframe['date'])\n",
    "dataframe.head()\n",
    "\n",
    "dataframe.loc[dataframe['date'].dt.month == 2].loc[dataframe['available'] == 't']"
   ],
   "metadata": {
    "collapsed": false,
    "pycharm": {
     "name": "#%%\n"
    }
   }
  },
  {
   "cell_type": "markdown",
   "source": [
    "The second question was figuring out what the most expensive time of year was to visit Seattle"
   ],
   "metadata": {
    "collapsed": false,
    "pycharm": {
     "name": "#%% md\n"
    }
   }
  },
  {
   "cell_type": "code",
   "execution_count": 2,
   "outputs": [
    {
     "data": {
      "text/plain": "(459028, 934542)"
     },
     "execution_count": 2,
     "metadata": {},
     "output_type": "execute_result"
    }
   ],
   "source": [
    "# Check if there are any null values in the available or date columns\n",
    "nullPrices = dataframe['price'].isnull().sum()\n",
    "\n",
    "notNullPrices = dataframe['price'].value_counts().sum()\n",
    "\n",
    "nullPrices, notNullPrices"
   ],
   "metadata": {
    "collapsed": false,
    "pycharm": {
     "name": "#%%\n"
    }
   }
  },
  {
   "cell_type": "markdown",
   "source": [
    "There are 459,028 rows without a price, and 934,542 rows with a price. Checking to see if all the rows without a price are rows that are not available"
   ],
   "metadata": {
    "collapsed": false,
    "pycharm": {
     "name": "#%% md\n"
    }
   }
  },
  {
   "cell_type": "code",
   "execution_count": 3,
   "outputs": [
    {
     "data": {
      "text/plain": "459028"
     },
     "execution_count": 3,
     "metadata": {},
     "output_type": "execute_result"
    }
   ],
   "source": [
    "nullPrices = dataframe.loc[dataframe['available'] == 'f']['price'].isnull().sum()\n",
    "\n",
    "nullPrices"
   ],
   "metadata": {
    "collapsed": false,
    "pycharm": {
     "name": "#%%\n"
    }
   }
  },
  {
   "cell_type": "markdown",
   "source": [
    "The rows with unavailable listings do not list a price. This means it won't be possible to determine a price delta between the busiest and not the busiest times of year. However, it can be determined what the most expensive time of year is."
   ],
   "metadata": {
    "collapsed": false
   }
  },
  {
   "cell_type": "code",
   "execution_count": 4,
   "outputs": [
    {
     "data": {
      "text/plain": "            date      price  size  price_as_decimal  month\n6800  2016-02-01  $1,000.00     1            1000.0      2\n6801  2016-02-01    $100.00    92             100.0      2\n6802  2016-02-01    $101.00     5             101.0      2\n6803  2016-02-01    $102.00     6             102.0      2\n6804  2016-02-01    $103.00     9             103.0      2\n...          ...        ...   ...               ...    ...\n14314 2016-02-29     $96.00     6              96.0      2\n14315 2016-02-29     $97.00    13              97.0      2\n14316 2016-02-29     $98.00    14              98.0      2\n14317 2016-02-29     $99.00    73              99.0      2\n14318 2016-02-29    $999.00     1             999.0      2\n\n[7519 rows x 5 columns]",
      "text/html": "<div>\n<style scoped>\n    .dataframe tbody tr th:only-of-type {\n        vertical-align: middle;\n    }\n\n    .dataframe tbody tr th {\n        vertical-align: top;\n    }\n\n    .dataframe thead th {\n        text-align: right;\n    }\n</style>\n<table border=\"1\" class=\"dataframe\">\n  <thead>\n    <tr style=\"text-align: right;\">\n      <th></th>\n      <th>date</th>\n      <th>price</th>\n      <th>size</th>\n      <th>price_as_decimal</th>\n      <th>month</th>\n    </tr>\n  </thead>\n  <tbody>\n    <tr>\n      <th>6800</th>\n      <td>2016-02-01</td>\n      <td>$1,000.00</td>\n      <td>1</td>\n      <td>1000.0</td>\n      <td>2</td>\n    </tr>\n    <tr>\n      <th>6801</th>\n      <td>2016-02-01</td>\n      <td>$100.00</td>\n      <td>92</td>\n      <td>100.0</td>\n      <td>2</td>\n    </tr>\n    <tr>\n      <th>6802</th>\n      <td>2016-02-01</td>\n      <td>$101.00</td>\n      <td>5</td>\n      <td>101.0</td>\n      <td>2</td>\n    </tr>\n    <tr>\n      <th>6803</th>\n      <td>2016-02-01</td>\n      <td>$102.00</td>\n      <td>6</td>\n      <td>102.0</td>\n      <td>2</td>\n    </tr>\n    <tr>\n      <th>6804</th>\n      <td>2016-02-01</td>\n      <td>$103.00</td>\n      <td>9</td>\n      <td>103.0</td>\n      <td>2</td>\n    </tr>\n    <tr>\n      <th>...</th>\n      <td>...</td>\n      <td>...</td>\n      <td>...</td>\n      <td>...</td>\n      <td>...</td>\n    </tr>\n    <tr>\n      <th>14314</th>\n      <td>2016-02-29</td>\n      <td>$96.00</td>\n      <td>6</td>\n      <td>96.0</td>\n      <td>2</td>\n    </tr>\n    <tr>\n      <th>14315</th>\n      <td>2016-02-29</td>\n      <td>$97.00</td>\n      <td>13</td>\n      <td>97.0</td>\n      <td>2</td>\n    </tr>\n    <tr>\n      <th>14316</th>\n      <td>2016-02-29</td>\n      <td>$98.00</td>\n      <td>14</td>\n      <td>98.0</td>\n      <td>2</td>\n    </tr>\n    <tr>\n      <th>14317</th>\n      <td>2016-02-29</td>\n      <td>$99.00</td>\n      <td>73</td>\n      <td>99.0</td>\n      <td>2</td>\n    </tr>\n    <tr>\n      <th>14318</th>\n      <td>2016-02-29</td>\n      <td>$999.00</td>\n      <td>1</td>\n      <td>999.0</td>\n      <td>2</td>\n    </tr>\n  </tbody>\n</table>\n<p>7519 rows × 5 columns</p>\n</div>"
     },
     "execution_count": 4,
     "metadata": {},
     "output_type": "execute_result"
    }
   ],
   "source": [
    "priceByDate = dataframe.groupby(['date', 'price'], as_index=False).size()\n",
    "\n",
    "priceByDate['price_as_decimal'] = priceByDate['price'].str.replace('[\\$,]', '', regex=True).astype(float)\n",
    "\n",
    "priceByDate = priceByDate.loc[priceByDate['date'].dt.month == 2]\n",
    "\n",
    "priceByDate['price_as_decimal'] = priceByDate['price'].str.replace('[\\$,]', '', regex=True).astype(float)\n",
    "priceByDate['month'] = priceByDate['date'].dt.month\n",
    "\n",
    "priceByDate"
   ],
   "metadata": {
    "collapsed": false,
    "pycharm": {
     "name": "#%%\n"
    }
   }
  },
  {
   "cell_type": "code",
   "execution_count": 6,
   "outputs": [
    {
     "data": {
      "text/plain": "<Figure size 432x288 with 1 Axes>",
      "image/png": "[encoded data removed]"
     },
     "metadata": {
      "needs_background": "light"
     },
     "output_type": "display_data"
    }
   ],
   "source": [
    "# Group by date, and price\n",
    "priceByDate = dataframe.groupby(['date', 'price'], as_index=False).size()\n",
    "\n",
    "# Only concerned with 2016 data\n",
    "priceByDate = priceByDate.loc[priceByDate['date'].dt.year == 2016]\n",
    "\n",
    "# Add the columns that will be grouped and computed to get the mean price per month\n",
    "priceByDate['price_as_decimal'] = priceByDate['price'].str.replace('[\\$,]', '', regex=True).astype(float)\n",
    "priceByDate['month'] = priceByDate['date'].dt.month\n",
    "\n",
    "# Setup the plotData\n",
    "plotData = pandas.DataFrame({'month': priceByDate['month'], 'price': priceByDate['price_as_decimal']})\n",
    "\n",
    "# Group by the month and get the price mean, rounded to the penny\n",
    "plotData = plotData.groupby('month', as_index=False).mean().round(2)\n",
    "\n",
    "# Set the month column to the month name for the Bar chart\n",
    "plotData['month'] = pandas.to_datetime(plotData['month'], format='%m').dt.month_name()\n",
    "\n",
    "# Plot a bar graph detailing availability by month\n",
    "graph = pyplot.figure().add_axes([0, 0, 1, 1])\n",
    "pyplot.setp(graph.get_xticklabels(), fontsize=16, rotation='45')\n",
    "pyplot.title(\"Average price per month\")\n",
    "\n",
    "graph.bar(plotData['month'], plotData['price'])\n",
    "\n",
    "pyplot.show()"
   ],
   "metadata": {
    "collapsed": false,
    "pycharm": {
     "name": "#%%\n"
    }
   }
  },
  {
   "cell_type": "markdown",
   "source": [
    "The most expensive time of the year to vist Seattle using AirBNB is during the summer with July being the most expensive month overall"
   ],
   "metadata": {
    "collapsed": false,
    "pycharm": {
     "name": "#%% md\n"
    }
   }
  }
 ],
 "metadata": {
  "kernelspec": {
   "display_name": "Python 3",
   "language": "python",
   "name": "python3"
  },
  "language_info": {
   "codemirror_mode": {
    "name": "ipython",
    "version": 2
   },
   "file_extension": ".py",
   "mimetype": "text/x-python",
   "name": "python",
   "nbconvert_exporter": "python",
   "pygments_lexer": "ipython2",
   "version": "2.7.6"
  }
 },
 "nbformat": 4,
 "nbformat_minor": 0
}