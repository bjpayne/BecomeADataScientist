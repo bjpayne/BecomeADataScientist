{
 "cells": [
  {
   "cell_type": "markdown",
   "source": [
    "# Data Understanding"
   ],
   "metadata": {
    "collapsed": false
   }
  },
  {
   "cell_type": "code",
   "execution_count": 50,
   "outputs": [
    {
     "data": {
      "text/plain": "   listing_id       date available  price\n0      241032 2016-01-04         t   85.0\n1      241032 2016-01-05         t   85.0\n2      241032 2016-01-06         f    NaN\n3      241032 2016-01-07         f    NaN\n4      241032 2016-01-08         f    NaN",
      "text/html": "<div>\n<style scoped>\n    .dataframe tbody tr th:only-of-type {\n        vertical-align: middle;\n    }\n\n    .dataframe tbody tr th {\n        vertical-align: top;\n    }\n\n    .dataframe thead th {\n        text-align: right;\n    }\n</style>\n<table border=\"1\" class=\"dataframe\">\n  <thead>\n    <tr style=\"text-align: right;\">\n      <th></th>\n      <th>listing_id</th>\n      <th>date</th>\n      <th>available</th>\n      <th>price</th>\n    </tr>\n  </thead>\n  <tbody>\n    <tr>\n      <th>0</th>\n      <td>241032</td>\n      <td>2016-01-04</td>\n      <td>t</td>\n      <td>85.0</td>\n    </tr>\n    <tr>\n      <th>1</th>\n      <td>241032</td>\n      <td>2016-01-05</td>\n      <td>t</td>\n      <td>85.0</td>\n    </tr>\n    <tr>\n      <th>2</th>\n      <td>241032</td>\n      <td>2016-01-06</td>\n      <td>f</td>\n      <td>NaN</td>\n    </tr>\n    <tr>\n      <th>3</th>\n      <td>241032</td>\n      <td>2016-01-07</td>\n      <td>f</td>\n      <td>NaN</td>\n    </tr>\n    <tr>\n      <th>4</th>\n      <td>241032</td>\n      <td>2016-01-08</td>\n      <td>f</td>\n      <td>NaN</td>\n    </tr>\n  </tbody>\n</table>\n</div>"
     },
     "execution_count": 50,
     "metadata": {},
     "output_type": "execute_result"
    }
   ],
   "source": [
    "import pandas\n",
    "import matplotlib.pyplot as pyplot\n",
    "import numpy\n",
    "import seaborn\n",
    "\n",
    "# Read in the data and display the first 5 columns\n",
    "dataframe = pandas.read_csv('./calendar.csv')\n",
    "\n",
    "# Set the date column to be a pandas datetime column\n",
    "dataframe['date'] = pandas.to_datetime(dataframe['date'])\n",
    "\n",
    "# Set the price column to be a float\n",
    "dataframe['price'] = dataframe['price'].str.replace('[\\$,]', '', regex=True).astype(float)\n",
    "\n",
    "dataframe.head()"
   ],
   "metadata": {
    "collapsed": false,
    "pycharm": {
     "name": "#%%\n"
    }
   }
  },
  {
   "cell_type": "markdown",
   "source": [
    "To check the price delta between various times of year and between available and unavailable listings...clear up any NaN values for price"
   ],
   "metadata": {
    "collapsed": false,
    "pycharm": {
     "name": "#%% md\n"
    }
   }
  },
  {
   "cell_type": "markdown",
   "source": [
    "# Prepare Data"
   ],
   "metadata": {
    "collapsed": false
   }
  },
  {
   "cell_type": "code",
   "execution_count": 51,
   "outputs": [
    {
     "data": {
      "text/plain": "(459028, 934542)"
     },
     "execution_count": 51,
     "metadata": {},
     "output_type": "execute_result"
    }
   ],
   "source": [
    "# Check if there are any null values in the available or date columns\n",
    "nullPrices = dataframe['price'].isnull().sum()\n",
    "\n",
    "notNullPrices = dataframe['price'].value_counts().sum()\n",
    "\n",
    "nullPrices, notNullPrices"
   ],
   "metadata": {
    "collapsed": false,
    "pycharm": {
     "name": "#%%\n"
    }
   }
  },
  {
   "cell_type": "markdown",
   "source": [
    "There are 459,028 rows without a price, and 934,542 rows with a price. Check to see if all the rows without a price are rows that are not available"
   ],
   "metadata": {
    "collapsed": false,
    "pycharm": {
     "name": "#%% md\n"
    }
   }
  },
  {
   "cell_type": "code",
   "execution_count": 52,
   "outputs": [
    {
     "data": {
      "text/plain": "459028"
     },
     "execution_count": 52,
     "metadata": {},
     "output_type": "execute_result"
    }
   ],
   "source": [
    "nullPrices = dataframe.loc[dataframe['available'] == 'f']['price'].isnull().sum()\n",
    "\n",
    "nullPrices"
   ],
   "metadata": {
    "collapsed": false,
    "pycharm": {
     "name": "#%%\n"
    }
   }
  },
  {
   "cell_type": "markdown",
   "source": [
    "The rows with unavailable listings do not list a price. What are some options for imputing the missing values? Get a list of available listings and prices"
   ],
   "metadata": {
    "collapsed": false
   }
  },
  {
   "cell_type": "code",
   "execution_count": 53,
   "outputs": [
    {
     "data": {
      "text/plain": "      listing_id   price\n0           3335  120.00\n1           4291   82.00\n2           5682   52.50\n3           6606   95.00\n4           7369   85.00\n...          ...     ...\n3718    10331249   45.00\n3719    10332096   40.00\n3720    10334184  120.00\n3721    10339145  262.33\n3722    10340165   43.00\n\n[3723 rows x 2 columns]",
      "text/html": "<div>\n<style scoped>\n    .dataframe tbody tr th:only-of-type {\n        vertical-align: middle;\n    }\n\n    .dataframe tbody tr th {\n        vertical-align: top;\n    }\n\n    .dataframe thead th {\n        text-align: right;\n    }\n</style>\n<table border=\"1\" class=\"dataframe\">\n  <thead>\n    <tr style=\"text-align: right;\">\n      <th></th>\n      <th>listing_id</th>\n      <th>price</th>\n    </tr>\n  </thead>\n  <tbody>\n    <tr>\n      <th>0</th>\n      <td>3335</td>\n      <td>120.00</td>\n    </tr>\n    <tr>\n      <th>1</th>\n      <td>4291</td>\n      <td>82.00</td>\n    </tr>\n    <tr>\n      <th>2</th>\n      <td>5682</td>\n      <td>52.50</td>\n    </tr>\n    <tr>\n      <th>3</th>\n      <td>6606</td>\n      <td>95.00</td>\n    </tr>\n    <tr>\n      <th>4</th>\n      <td>7369</td>\n      <td>85.00</td>\n    </tr>\n    <tr>\n      <th>...</th>\n      <td>...</td>\n      <td>...</td>\n    </tr>\n    <tr>\n      <th>3718</th>\n      <td>10331249</td>\n      <td>45.00</td>\n    </tr>\n    <tr>\n      <th>3719</th>\n      <td>10332096</td>\n      <td>40.00</td>\n    </tr>\n    <tr>\n      <th>3720</th>\n      <td>10334184</td>\n      <td>120.00</td>\n    </tr>\n    <tr>\n      <th>3721</th>\n      <td>10339145</td>\n      <td>262.33</td>\n    </tr>\n    <tr>\n      <th>3722</th>\n      <td>10340165</td>\n      <td>43.00</td>\n    </tr>\n  </tbody>\n</table>\n<p>3723 rows × 2 columns</p>\n</div>"
     },
     "execution_count": 53,
     "metadata": {},
     "output_type": "execute_result"
    }
   ],
   "source": [
    "availableListings = dataframe.loc[dataframe['available'] == 't'].copy()\n",
    "\n",
    "availableListings = availableListings[['listing_id', 'price']].groupby(['listing_id', 'price'], as_index=False)\n",
    "\n",
    "availableListings = availableListings.mean().groupby('listing_id')['price'].mean().round(2)\n",
    "\n",
    "availableListings = pandas.DataFrame(availableListings.reset_index())\n",
    "\n",
    "availableListings"
   ],
   "metadata": {
    "collapsed": false,
    "pycharm": {
     "name": "#%%\n"
    }
   }
  },
  {
   "cell_type": "markdown",
   "source": [
    "An option would be to take these means values for available listings and fill all nan fields with their respective mean price based on the listing"
   ],
   "metadata": {
    "collapsed": false
   }
  },
  {
   "cell_type": "code",
   "execution_count": 54,
   "outputs": [],
   "source": [
    "def find_available_listings_mean(row):\n",
    "    \"\"\"\n",
    "        INPUT\n",
    "        row - pandas.core.series.Series\n",
    "\n",
    "        OUTPUT\n",
    "        X - A matrix holding all of the variables you want to consider when predicting the response\n",
    "        y - the corresponding response vector\n",
    "\n",
    "        This function searches for the listing id of available listings and returns the price\n",
    "        1. If the price column in the row is null\n",
    "        2. Search for the listing id in the available listings frame\n",
    "        3. Get the price\n",
    "    \"\"\"\n",
    "    if numpy.isnan(row['price']):\n",
    "        try:\n",
    "            price = availableListings.loc[availableListings['listing_id'] == row['listing_id']]['price'].item()\n",
    "\n",
    "            return price\n",
    "        except:\n",
    "            return row['price']\n",
    "    else:\n",
    "        return row['price']\n",
    "\n",
    "dataframe['price'] = dataframe.apply(\n",
    "    lambda row: find_available_listings_mean(row),\n",
    "    axis=1\n",
    ")"
   ],
   "metadata": {
    "collapsed": false,
    "pycharm": {
     "name": "#%%\n"
    }
   }
  },
  {
   "cell_type": "code",
   "execution_count": 56,
   "outputs": [],
   "source": [
    "def slice_by_availability(_dataframe, availability):\n",
    "    '''\n",
    "    INPUT\n",
    "    df - pandas dataframe\n",
    "    availability - string\n",
    "\n",
    "    OUTPUT\n",
    "    listings - Pandas series\n",
    "\n",
    "    This function get the listings by availability and year:\n",
    "    1. Get the listings by availability\n",
    "    2. Add a year and month column to the dataframe\n",
    "    3. Filter out listings not in 2016\n",
    "    4. Return the dataframe\n",
    "    '''\n",
    "    listings = _dataframe.loc[_dataframe['available'] == availability].copy()\n",
    "\n",
    "    listings['month'] = pandas.to_datetime(listings['date']).dt.month\n",
    "    listings['year'] = pandas.to_datetime(listings['date']).dt.year\n",
    "\n",
    "    listings = listings.loc[listings['year'] == 2016].copy()\n",
    "\n",
    "    return listings"
   ],
   "metadata": {
    "collapsed": false,
    "pycharm": {
     "name": "#%%\n"
    }
   }
  },
  {
   "cell_type": "markdown",
   "source": [
    "# Model Data\n",
    "Putting it all together, graph a point plot with one set being the pricing per month for available listings, and the other unavailable listings"
   ],
   "metadata": {
    "collapsed": false
   }
  },
  {
   "cell_type": "code",
   "execution_count": 57,
   "outputs": [
    {
     "data": {
      "text/plain": "<Figure size 1080x720 with 1 Axes>",
      "image/png": "[encoded data removed]"
     },
     "metadata": {
      "needs_background": "light"
     },
     "output_type": "display_data"
    }
   ],
   "source": [
    "# Plot a bar graph detailing average price per month\n",
    "available_listings = slice_by_availability(dataframe, 't')\n",
    "unavailable_listings = slice_by_availability(dataframe, 'f')\n",
    "\n",
    "plot_data = pandas.concat([available_listings.assign(dataset='available'), unavailable_listings.assign(dataset='unavailable')])\n",
    "\n",
    "plot_data = plot_data[['month', 'dataset', 'price']]\n",
    "\n",
    "plot_data['month'] = plot_data['month'].map({1: 'January', 2: 'February', 3: 'March', 4: 'April', 5: 'May', 6: 'June', 7: 'July', 8: 'August', 9: 'September', 10: 'October', 11: 'November', 12: 'December'})\n",
    "\n",
    "pyplot.subplots(figsize = (15,10))\n",
    "seaborn.pointplot(x = 'month', y = 'price', hue='dataset', data=plot_data)\n",
    "pyplot.ylabel('Price')\n",
    "pyplot.xlabel('Months')\n",
    "pyplot.title('2016 average price of available and unavailable listings per month')\n",
    "\n",
    "pyplot.savefig('available_listings_vs_unavailable_listings_price_2016.png')"
   ],
   "metadata": {
    "collapsed": false,
    "pycharm": {
     "name": "#%%\n"
    }
   }
  },
  {
   "cell_type": "markdown",
   "source": [
    "# Evaluation\n",
    "By imputing the average price for an available listing onto the NaN values for unavailable listings it's clear there's at least some correlation between price and availability. However, the imputation is limited by a number of factors. For example, a price might be higher due to higher demand which would be missing from the mean."
   ],
   "metadata": {
    "collapsed": false,
    "pycharm": {
     "name": "#%% md\n"
    }
   }
  }
 ],
 "metadata": {
  "kernelspec": {
   "display_name": "Python 3",
   "language": "python",
   "name": "python3"
  },
  "language_info": {
   "codemirror_mode": {
    "name": "ipython",
    "version": 2
   },
   "file_extension": ".py",
   "mimetype": "text/x-python",
   "name": "python",
   "nbconvert_exporter": "python",
   "pygments_lexer": "ipython2",
   "version": "2.7.6"
  }
 },
 "nbformat": 4,
 "nbformat_minor": 0
}